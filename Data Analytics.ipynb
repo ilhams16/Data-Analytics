{
 "cells": [
  {
   "cell_type": "code",
   "execution_count": 5,
   "id": "b6636fa6",
   "metadata": {},
   "outputs": [],
   "source": [
    "import pandas as pd"
   ]
  },
  {
   "cell_type": "code",
   "execution_count": 23,
   "id": "f781de47",
   "metadata": {},
   "outputs": [],
   "source": [
    "df = pd.read_csv(\"C:/Users/ilham/Documents/export.csv\")"
   ]
  },
  {
   "cell_type": "code",
   "execution_count": 24,
   "id": "7e412b74",
   "metadata": {},
   "outputs": [
    {
     "data": {
      "text/html": [
       "<div>\n",
       "<style scoped>\n",
       "    .dataframe tbody tr th:only-of-type {\n",
       "        vertical-align: middle;\n",
       "    }\n",
       "\n",
       "    .dataframe tbody tr th {\n",
       "        vertical-align: top;\n",
       "    }\n",
       "\n",
       "    .dataframe thead th {\n",
       "        text-align: right;\n",
       "    }\n",
       "</style>\n",
       "<table border=\"1\" class=\"dataframe\">\n",
       "  <thead>\n",
       "    <tr style=\"text-align: right;\">\n",
       "      <th></th>\n",
       "      <th>No.</th>\n",
       "      <th>Komoditas</th>\n",
       "      <th>28/09/2021</th>\n",
       "      <th>29/09/2021</th>\n",
       "      <th>30/09/2021</th>\n",
       "      <th>01/10/2021</th>\n",
       "      <th>04/10/2021</th>\n",
       "      <th>05/10/2021</th>\n",
       "    </tr>\n",
       "  </thead>\n",
       "  <tbody>\n",
       "    <tr>\n",
       "      <th>0</th>\n",
       "      <td>1</td>\n",
       "      <td>Beras Kualitas Bawah I (kg)</td>\n",
       "      <td>Rp10,650</td>\n",
       "      <td>Rp10,650</td>\n",
       "      <td>Rp10,550</td>\n",
       "      <td>Rp10,650</td>\n",
       "      <td>Rp10,650</td>\n",
       "      <td>Rp10,650</td>\n",
       "    </tr>\n",
       "    <tr>\n",
       "      <th>1</th>\n",
       "      <td>2</td>\n",
       "      <td>Beras Kualitas Medium I (kg)</td>\n",
       "      <td>Rp11,700</td>\n",
       "      <td>Rp11,700</td>\n",
       "      <td>Rp11,650</td>\n",
       "      <td>Rp11,700</td>\n",
       "      <td>Rp11,700</td>\n",
       "      <td>Rp11,700</td>\n",
       "    </tr>\n",
       "    <tr>\n",
       "      <th>2</th>\n",
       "      <td>3</td>\n",
       "      <td>Beras Kualitas Super I (kg)</td>\n",
       "      <td>Rp13,000</td>\n",
       "      <td>Rp13,000</td>\n",
       "      <td>Rp12,900</td>\n",
       "      <td>Rp12,950</td>\n",
       "      <td>Rp12,950</td>\n",
       "      <td>Rp12,950</td>\n",
       "    </tr>\n",
       "    <tr>\n",
       "      <th>3</th>\n",
       "      <td>4</td>\n",
       "      <td>Daging Ayam Ras Segar (kg)</td>\n",
       "      <td>Rp35,650</td>\n",
       "      <td>Rp35,700</td>\n",
       "      <td>Rp35,450</td>\n",
       "      <td>Rp35,350</td>\n",
       "      <td>Rp35,400</td>\n",
       "      <td>Rp35,350</td>\n",
       "    </tr>\n",
       "    <tr>\n",
       "      <th>4</th>\n",
       "      <td>5</td>\n",
       "      <td>Daging Sapi Kualitas 1 (kg)</td>\n",
       "      <td>Rp127,550</td>\n",
       "      <td>Rp127,600</td>\n",
       "      <td>Rp127,250</td>\n",
       "      <td>Rp127,450</td>\n",
       "      <td>Rp127,600</td>\n",
       "      <td>Rp127,650</td>\n",
       "    </tr>\n",
       "  </tbody>\n",
       "</table>\n",
       "</div>"
      ],
      "text/plain": [
       "   No.                     Komoditas   28/09/2021   29/09/2021   30/09/2021  \\\n",
       "0    1   Beras Kualitas Bawah I (kg)    Rp10,650     Rp10,650     Rp10,550    \n",
       "1    2  Beras Kualitas Medium I (kg)    Rp11,700     Rp11,700     Rp11,650    \n",
       "2    3   Beras Kualitas Super I (kg)    Rp13,000     Rp13,000     Rp12,900    \n",
       "3    4    Daging Ayam Ras Segar (kg)    Rp35,650     Rp35,700     Rp35,450    \n",
       "4    5   Daging Sapi Kualitas 1 (kg)   Rp127,550    Rp127,600    Rp127,250    \n",
       "\n",
       "    01/10/2021   04/10/2021   05/10/2021  \n",
       "0    Rp10,650     Rp10,650     Rp10,650   \n",
       "1    Rp11,700     Rp11,700     Rp11,700   \n",
       "2    Rp12,950     Rp12,950     Rp12,950   \n",
       "3    Rp35,350     Rp35,400     Rp35,350   \n",
       "4   Rp127,450    Rp127,600    Rp127,650   "
      ]
     },
     "execution_count": 24,
     "metadata": {},
     "output_type": "execute_result"
    }
   ],
   "source": [
    "df.head()"
   ]
  },
  {
   "cell_type": "code",
   "execution_count": 33,
   "id": "2f641355",
   "metadata": {},
   "outputs": [
    {
     "data": {
      "text/plain": [
       "No.                                     1\n",
       "Komoditas     Beras Kualitas Bawah I (kg)\n",
       "28/09/2021                      Rp10,650 \n",
       "29/09/2021                      Rp10,650 \n",
       "30/09/2021                      Rp10,550 \n",
       "01/10/2021                      Rp10,650 \n",
       "04/10/2021                      Rp10,650 \n",
       "05/10/2021                      Rp10,650 \n",
       "Name: 0, dtype: object"
      ]
     },
     "execution_count": 33,
     "metadata": {},
     "output_type": "execute_result"
    }
   ],
   "source": [
    "df.loc[0]"
   ]
  },
  {
   "cell_type": "code",
   "execution_count": 34,
   "id": "e63d4939",
   "metadata": {},
   "outputs": [
    {
     "data": {
      "text/plain": [
       "No.                                    4\n",
       "Komoditas     Daging Ayam Ras Segar (kg)\n",
       "28/09/2021                     Rp35,650 \n",
       "29/09/2021                     Rp35,700 \n",
       "30/09/2021                     Rp35,450 \n",
       "01/10/2021                     Rp35,350 \n",
       "04/10/2021                     Rp35,400 \n",
       "05/10/2021                     Rp35,350 \n",
       "Name: 3, dtype: object"
      ]
     },
     "execution_count": 34,
     "metadata": {},
     "output_type": "execute_result"
    }
   ],
   "source": [
    "df.loc[3]"
   ]
  },
  {
   "cell_type": "code",
   "execution_count": 35,
   "id": "d38fa93d",
   "metadata": {},
   "outputs": [
    {
     "data": {
      "text/plain": [
       "No.                                     5\n",
       "Komoditas     Daging Sapi Kualitas 1 (kg)\n",
       "28/09/2021                     Rp127,550 \n",
       "29/09/2021                     Rp127,600 \n",
       "30/09/2021                     Rp127,250 \n",
       "01/10/2021                     Rp127,450 \n",
       "04/10/2021                     Rp127,600 \n",
       "05/10/2021                     Rp127,650 \n",
       "Name: 4, dtype: object"
      ]
     },
     "execution_count": 35,
     "metadata": {},
     "output_type": "execute_result"
    }
   ],
   "source": [
    "df.loc[4]"
   ]
  },
  {
   "cell_type": "code",
   "execution_count": null,
   "id": "f4ac715f",
   "metadata": {},
   "outputs": [],
   "source": []
  }
 ],
 "metadata": {
  "kernelspec": {
   "display_name": "Python 3 (ipykernel)",
   "language": "python",
   "name": "python3"
  },
  "language_info": {
   "codemirror_mode": {
    "name": "ipython",
    "version": 3
   },
   "file_extension": ".py",
   "mimetype": "text/x-python",
   "name": "python",
   "nbconvert_exporter": "python",
   "pygments_lexer": "ipython3",
   "version": "3.9.0"
  }
 },
 "nbformat": 4,
 "nbformat_minor": 5
}
